{
 "cells": [
  {
   "cell_type": "markdown",
   "id": "0b3516de",
   "metadata": {},
   "source": [
    "<div style=\"border:solid green 2px; padding: 20px\">\n",
    "\n",
    "<b>Привет, София! Поздравляю с выполнением очередного проекта!!</b>\n",
    "\n",
    "Меня зовут Петр Раздобреев и я буду проверять твою работу. Попробую помочь сделать тебе её еще лучше! В Практикуме принято общени на ты, но если это дискомфортно, то сообщи об этом)\n",
    "\n",
    "Ниже ты найдешь мои комментарии - пожалуйста, не перемещай, не изменяй и не удаляй их. Я буду использовать цветовую разметку:\n",
    "\n",
    "<div class=\"alert alert-danger\">\n",
    "<b>Комментарий ревьюера:</b>☁️Так выделены самые важные замечания. Без их отработки проект не будет принят. </div>\n",
    "\n",
    "<div class=\"alert alert-warning\">\n",
    "<b>Комментарий ревьюера:</b>⛅️ Так выделены небольшие замечания.Такие замечания в проекте допустимы, это пространство для улучшений в будущем.\n",
    "</div>\n",
    "\n",
    "<div class=\"alert alert-success\">\n",
    "<b>Комментарий ревьюера:</b>☀️Так я выделяю успешные идеи.</div>\n",
    "\n",
    "Давай работать над проектом в диалоге: если ты что-то меняешь в проекте или отвечаешь на мои комменатри — пиши об этом. Мне будет легче отследить изменения, если ты выделишь свои комментарии:\n",
    "<div class=\"alert alert-info\"> <b>Комментарий студента:</b> Например, вот так.</div>\n",
    "\n",
    "Всё это поможет выполнить повторную проверку твоего проекта оперативнее. \n",
    "    "
   ]
  },
  {
   "cell_type": "markdown",
   "id": "fd031283",
   "metadata": {},
   "source": [
    "# Проект: Статистический анализ данных  #"
   ]
  },
  {
   "cell_type": "markdown",
   "id": "bb1b5a84",
   "metadata": {},
   "source": [
    "### Вы аналитик популярного сервиса аренды самокатов GoFast. Вам передали данные о некоторых пользователях из нескольких городов, а также об их поездках. Проанализируйте данные и проверьте некоторые гипотезы, которые могут помочь бизнесу вырасти. ###\n",
    "\n",
    "### Чтобы совершать поездки по городу, пользователи сервиса GoFast пользуются мобильным приложением. Сервисом можно пользоваться: ###\n",
    "### без подписки:\n",
    "#### абонентская плата отсутствует;\n",
    "#### стоимость одной минуты поездки —  8рублей;\n",
    "#### стоимость старта (начала поездки) — 50 рублей;\n",
    "\n",
    "### с подпиской Ultra:\n",
    "#### абонентская плата — 199 рублей в месяц;\n",
    "#### стоимость одной минуты поездки — 6 рублей;\n",
    "##### стоимость старта — бесплатно. ###"
   ]
  },
  {
   "cell_type": "code",
   "execution_count": 1,
   "id": "d9e85102",
   "metadata": {},
   "outputs": [],
   "source": [
    "import pandas as pd\n",
    "import matplotlib.pyplot as plt\n",
    "import numpy as np\n",
    "from scipy import stats as st\n",
    "from scipy.stats import binom\n",
    "import seaborn as sns"
   ]
  },
  {
   "cell_type": "markdown",
   "id": "08e8ea58",
   "metadata": {},
   "source": [
    "## Шаг 1. Загрузка данных"
   ]
  },
  {
   "cell_type": "code",
   "execution_count": 2,
   "id": "63c7fd2f",
   "metadata": {},
   "outputs": [],
   "source": [
    "try:\n",
    "    users = pd.read_csv('/datasets/users_go.csv')\n",
    "except FileNotFoundError:\n",
    "    try:\n",
    "        users = pd.read_csv('users_go.csv')\n",
    "    except FileNotFoundError:\n",
    "        print(\"Файл 'users_go.csv' не найден ни в одном из указанных мест.\")\n",
    "\n",
    "try:\n",
    "    rides = pd.read_csv('/datasets/rides_go.csv')\n",
    "except FileNotFoundError:\n",
    "    try:\n",
    "        rides = pd.read_csv('rides_go.csv')\n",
    "    except FileNotFoundError:\n",
    "        print(\"Файл 'rides_go.csv' не найден ни в одном из указанных мест.\")\n",
    "\n",
    "try:\n",
    "    subs = pd.read_csv('/datasets/subscriptions_go.csv')\n",
    "except FileNotFoundError:\n",
    "    try:\n",
    "        subs = pd.read_csv('subscriptions_go.csv')\n",
    "    except FileNotFoundError:\n",
    "        print(\"Файл 'subscriptions_go.csv' не найден ни в одном из указанных мест.\")\n",
    "\n",
    "# Сохраняем данные в локальные копии, если они были успешно загружены\n",
    "if 'users' in locals():\n",
    "    users.to_csv('users_local_copy.csv', index=False)\n",
    "\n",
    "if 'rides' in locals():\n",
    "    rides.to_csv('rides_local_copy.csv', index=False)\n",
    "\n",
    "if 'subs' in locals():\n",
    "    subs.to_csv('subscriptions_local_copy.csv', index=False)\n"
   ]
  },
  {
   "cell_type": "markdown",
   "id": "9735dba0",
   "metadata": {},
   "source": [
    "<div class=\"alert alert-warning\">\n",
    "<b>Комментарий ревьюера:</b>⛅️ \n",
    "\n",
    "Конечно с точки зрения правильности лучше в одном блоке `try-except` проверять одно действие, но ведь у нас либо откроются все датафреймы по одному пути, либо по другому, в связи с этим можно обойтись одним блоком \n",
    "</div>"
   ]
  },
  {
   "cell_type": "code",
   "execution_count": 3,
   "id": "4fda353a",
   "metadata": {},
   "outputs": [
    {
     "data": {
      "text/html": [
       "<div>\n",
       "<style scoped>\n",
       "    .dataframe tbody tr th:only-of-type {\n",
       "        vertical-align: middle;\n",
       "    }\n",
       "\n",
       "    .dataframe tbody tr th {\n",
       "        vertical-align: top;\n",
       "    }\n",
       "\n",
       "    .dataframe thead th {\n",
       "        text-align: right;\n",
       "    }\n",
       "</style>\n",
       "<table border=\"1\" class=\"dataframe\">\n",
       "  <thead>\n",
       "    <tr style=\"text-align: right;\">\n",
       "      <th></th>\n",
       "      <th>user_id</th>\n",
       "      <th>distance</th>\n",
       "      <th>duration</th>\n",
       "      <th>date</th>\n",
       "    </tr>\n",
       "  </thead>\n",
       "  <tbody>\n",
       "    <tr>\n",
       "      <th>0</th>\n",
       "      <td>1</td>\n",
       "      <td>4409.919140</td>\n",
       "      <td>25.599769</td>\n",
       "      <td>2021-01-01</td>\n",
       "    </tr>\n",
       "    <tr>\n",
       "      <th>1</th>\n",
       "      <td>1</td>\n",
       "      <td>2617.592153</td>\n",
       "      <td>15.816871</td>\n",
       "      <td>2021-01-18</td>\n",
       "    </tr>\n",
       "    <tr>\n",
       "      <th>2</th>\n",
       "      <td>1</td>\n",
       "      <td>754.159807</td>\n",
       "      <td>6.232113</td>\n",
       "      <td>2021-04-20</td>\n",
       "    </tr>\n",
       "    <tr>\n",
       "      <th>3</th>\n",
       "      <td>1</td>\n",
       "      <td>2694.783254</td>\n",
       "      <td>18.511000</td>\n",
       "      <td>2021-08-11</td>\n",
       "    </tr>\n",
       "    <tr>\n",
       "      <th>4</th>\n",
       "      <td>1</td>\n",
       "      <td>4028.687306</td>\n",
       "      <td>26.265803</td>\n",
       "      <td>2021-08-28</td>\n",
       "    </tr>\n",
       "  </tbody>\n",
       "</table>\n",
       "</div>"
      ],
      "text/plain": [
       "   user_id     distance   duration        date\n",
       "0        1  4409.919140  25.599769  2021-01-01\n",
       "1        1  2617.592153  15.816871  2021-01-18\n",
       "2        1   754.159807   6.232113  2021-04-20\n",
       "3        1  2694.783254  18.511000  2021-08-11\n",
       "4        1  4028.687306  26.265803  2021-08-28"
      ]
     },
     "execution_count": 3,
     "metadata": {},
     "output_type": "execute_result"
    }
   ],
   "source": [
    "rides.head()"
   ]
  },
  {
   "cell_type": "code",
   "execution_count": 4,
   "id": "d94ffd67",
   "metadata": {},
   "outputs": [
    {
     "data": {
      "text/html": [
       "<div>\n",
       "<style scoped>\n",
       "    .dataframe tbody tr th:only-of-type {\n",
       "        vertical-align: middle;\n",
       "    }\n",
       "\n",
       "    .dataframe tbody tr th {\n",
       "        vertical-align: top;\n",
       "    }\n",
       "\n",
       "    .dataframe thead th {\n",
       "        text-align: right;\n",
       "    }\n",
       "</style>\n",
       "<table border=\"1\" class=\"dataframe\">\n",
       "  <thead>\n",
       "    <tr style=\"text-align: right;\">\n",
       "      <th></th>\n",
       "      <th>subscription_type</th>\n",
       "      <th>minute_price</th>\n",
       "      <th>start_ride_price</th>\n",
       "      <th>subscription_fee</th>\n",
       "    </tr>\n",
       "  </thead>\n",
       "  <tbody>\n",
       "    <tr>\n",
       "      <th>0</th>\n",
       "      <td>free</td>\n",
       "      <td>8</td>\n",
       "      <td>50</td>\n",
       "      <td>0</td>\n",
       "    </tr>\n",
       "    <tr>\n",
       "      <th>1</th>\n",
       "      <td>ultra</td>\n",
       "      <td>6</td>\n",
       "      <td>0</td>\n",
       "      <td>199</td>\n",
       "    </tr>\n",
       "  </tbody>\n",
       "</table>\n",
       "</div>"
      ],
      "text/plain": [
       "  subscription_type  minute_price  start_ride_price  subscription_fee\n",
       "0              free             8                50                 0\n",
       "1             ultra             6                 0               199"
      ]
     },
     "execution_count": 4,
     "metadata": {},
     "output_type": "execute_result"
    }
   ],
   "source": [
    "subs.head()"
   ]
  },
  {
   "cell_type": "code",
   "execution_count": 5,
   "id": "7e97211b",
   "metadata": {},
   "outputs": [
    {
     "data": {
      "text/html": [
       "<div>\n",
       "<style scoped>\n",
       "    .dataframe tbody tr th:only-of-type {\n",
       "        vertical-align: middle;\n",
       "    }\n",
       "\n",
       "    .dataframe tbody tr th {\n",
       "        vertical-align: top;\n",
       "    }\n",
       "\n",
       "    .dataframe thead th {\n",
       "        text-align: right;\n",
       "    }\n",
       "</style>\n",
       "<table border=\"1\" class=\"dataframe\">\n",
       "  <thead>\n",
       "    <tr style=\"text-align: right;\">\n",
       "      <th></th>\n",
       "      <th>user_id</th>\n",
       "      <th>name</th>\n",
       "      <th>age</th>\n",
       "      <th>city</th>\n",
       "      <th>subscription_type</th>\n",
       "    </tr>\n",
       "  </thead>\n",
       "  <tbody>\n",
       "    <tr>\n",
       "      <th>0</th>\n",
       "      <td>1</td>\n",
       "      <td>Кира</td>\n",
       "      <td>22</td>\n",
       "      <td>Тюмень</td>\n",
       "      <td>ultra</td>\n",
       "    </tr>\n",
       "    <tr>\n",
       "      <th>1</th>\n",
       "      <td>2</td>\n",
       "      <td>Станислав</td>\n",
       "      <td>31</td>\n",
       "      <td>Омск</td>\n",
       "      <td>ultra</td>\n",
       "    </tr>\n",
       "    <tr>\n",
       "      <th>2</th>\n",
       "      <td>3</td>\n",
       "      <td>Алексей</td>\n",
       "      <td>20</td>\n",
       "      <td>Москва</td>\n",
       "      <td>ultra</td>\n",
       "    </tr>\n",
       "    <tr>\n",
       "      <th>3</th>\n",
       "      <td>4</td>\n",
       "      <td>Константин</td>\n",
       "      <td>26</td>\n",
       "      <td>Ростов-на-Дону</td>\n",
       "      <td>ultra</td>\n",
       "    </tr>\n",
       "    <tr>\n",
       "      <th>4</th>\n",
       "      <td>5</td>\n",
       "      <td>Адель</td>\n",
       "      <td>28</td>\n",
       "      <td>Омск</td>\n",
       "      <td>ultra</td>\n",
       "    </tr>\n",
       "  </tbody>\n",
       "</table>\n",
       "</div>"
      ],
      "text/plain": [
       "   user_id        name  age            city subscription_type\n",
       "0        1        Кира   22          Тюмень             ultra\n",
       "1        2   Станислав   31            Омск             ultra\n",
       "2        3     Алексей   20          Москва             ultra\n",
       "3        4  Константин   26  Ростов-на-Дону             ultra\n",
       "4        5       Адель   28            Омск             ultra"
      ]
     },
     "execution_count": 5,
     "metadata": {},
     "output_type": "execute_result"
    }
   ],
   "source": [
    "users.head()"
   ]
  },
  {
   "cell_type": "markdown",
   "id": "adda7427",
   "metadata": {},
   "source": [
    "## Шаг 2. Предобработка данных"
   ]
  },
  {
   "cell_type": "code",
   "execution_count": 6,
   "id": "dfe3fa33",
   "metadata": {},
   "outputs": [],
   "source": [
    "rides['date'] = pd.to_datetime(rides['date'], format='%Y-%m-%d')"
   ]
  },
  {
   "cell_type": "code",
   "execution_count": 7,
   "id": "1720c299",
   "metadata": {},
   "outputs": [
    {
     "data": {
      "text/html": [
       "<div>\n",
       "<style scoped>\n",
       "    .dataframe tbody tr th:only-of-type {\n",
       "        vertical-align: middle;\n",
       "    }\n",
       "\n",
       "    .dataframe tbody tr th {\n",
       "        vertical-align: top;\n",
       "    }\n",
       "\n",
       "    .dataframe thead th {\n",
       "        text-align: right;\n",
       "    }\n",
       "</style>\n",
       "<table border=\"1\" class=\"dataframe\">\n",
       "  <thead>\n",
       "    <tr style=\"text-align: right;\">\n",
       "      <th></th>\n",
       "      <th>user_id</th>\n",
       "      <th>distance</th>\n",
       "      <th>duration</th>\n",
       "      <th>date</th>\n",
       "      <th>month</th>\n",
       "    </tr>\n",
       "  </thead>\n",
       "  <tbody>\n",
       "    <tr>\n",
       "      <th>0</th>\n",
       "      <td>1</td>\n",
       "      <td>4409.919140</td>\n",
       "      <td>25.599769</td>\n",
       "      <td>2021-01-01</td>\n",
       "      <td>1</td>\n",
       "    </tr>\n",
       "    <tr>\n",
       "      <th>1</th>\n",
       "      <td>1</td>\n",
       "      <td>2617.592153</td>\n",
       "      <td>15.816871</td>\n",
       "      <td>2021-01-18</td>\n",
       "      <td>1</td>\n",
       "    </tr>\n",
       "    <tr>\n",
       "      <th>2</th>\n",
       "      <td>1</td>\n",
       "      <td>754.159807</td>\n",
       "      <td>6.232113</td>\n",
       "      <td>2021-04-20</td>\n",
       "      <td>4</td>\n",
       "    </tr>\n",
       "    <tr>\n",
       "      <th>3</th>\n",
       "      <td>1</td>\n",
       "      <td>2694.783254</td>\n",
       "      <td>18.511000</td>\n",
       "      <td>2021-08-11</td>\n",
       "      <td>8</td>\n",
       "    </tr>\n",
       "    <tr>\n",
       "      <th>4</th>\n",
       "      <td>1</td>\n",
       "      <td>4028.687306</td>\n",
       "      <td>26.265803</td>\n",
       "      <td>2021-08-28</td>\n",
       "      <td>8</td>\n",
       "    </tr>\n",
       "    <tr>\n",
       "      <th>...</th>\n",
       "      <td>...</td>\n",
       "      <td>...</td>\n",
       "      <td>...</td>\n",
       "      <td>...</td>\n",
       "      <td>...</td>\n",
       "    </tr>\n",
       "    <tr>\n",
       "      <th>18063</th>\n",
       "      <td>1534</td>\n",
       "      <td>3781.098080</td>\n",
       "      <td>19.822962</td>\n",
       "      <td>2021-11-04</td>\n",
       "      <td>11</td>\n",
       "    </tr>\n",
       "    <tr>\n",
       "      <th>18064</th>\n",
       "      <td>1534</td>\n",
       "      <td>2840.423057</td>\n",
       "      <td>21.409799</td>\n",
       "      <td>2021-11-16</td>\n",
       "      <td>11</td>\n",
       "    </tr>\n",
       "    <tr>\n",
       "      <th>18065</th>\n",
       "      <td>1534</td>\n",
       "      <td>3826.185507</td>\n",
       "      <td>18.435051</td>\n",
       "      <td>2021-11-18</td>\n",
       "      <td>11</td>\n",
       "    </tr>\n",
       "    <tr>\n",
       "      <th>18066</th>\n",
       "      <td>1534</td>\n",
       "      <td>2902.308661</td>\n",
       "      <td>16.674362</td>\n",
       "      <td>2021-11-27</td>\n",
       "      <td>11</td>\n",
       "    </tr>\n",
       "    <tr>\n",
       "      <th>18067</th>\n",
       "      <td>1534</td>\n",
       "      <td>2371.711192</td>\n",
       "      <td>15.893917</td>\n",
       "      <td>2021-12-29</td>\n",
       "      <td>12</td>\n",
       "    </tr>\n",
       "  </tbody>\n",
       "</table>\n",
       "<p>18068 rows × 5 columns</p>\n",
       "</div>"
      ],
      "text/plain": [
       "       user_id     distance   duration       date  month\n",
       "0            1  4409.919140  25.599769 2021-01-01      1\n",
       "1            1  2617.592153  15.816871 2021-01-18      1\n",
       "2            1   754.159807   6.232113 2021-04-20      4\n",
       "3            1  2694.783254  18.511000 2021-08-11      8\n",
       "4            1  4028.687306  26.265803 2021-08-28      8\n",
       "...        ...          ...        ...        ...    ...\n",
       "18063     1534  3781.098080  19.822962 2021-11-04     11\n",
       "18064     1534  2840.423057  21.409799 2021-11-16     11\n",
       "18065     1534  3826.185507  18.435051 2021-11-18     11\n",
       "18066     1534  2902.308661  16.674362 2021-11-27     11\n",
       "18067     1534  2371.711192  15.893917 2021-12-29     12\n",
       "\n",
       "[18068 rows x 5 columns]"
      ]
     },
     "execution_count": 7,
     "metadata": {},
     "output_type": "execute_result"
    }
   ],
   "source": [
    "# Создание нового столбца с номером месяца\n",
    "rides['month'] = rides['date'].dt.month\n",
    "rides"
   ]
  },
  {
   "cell_type": "code",
   "execution_count": 8,
   "id": "91462352",
   "metadata": {},
   "outputs": [],
   "source": [
    "rides['distance'] = rides['distance'].round(2)"
   ]
  },
  {
   "cell_type": "code",
   "execution_count": 9,
   "id": "5608216c",
   "metadata": {},
   "outputs": [],
   "source": [
    "rides['duration'] = np.ceil(rides['duration']).astype('int')"
   ]
  },
  {
   "cell_type": "markdown",
   "id": "cf91b4de",
   "metadata": {},
   "source": [
    "<div class=\"alert alert-success\">\n",
    "<b>Комментарий ревьюера:</b>☀️\n",
    "    \n",
    "Отлично, что так заранее разобралась с округлением!"
   ]
  },
  {
   "cell_type": "markdown",
   "id": "50605aa5",
   "metadata": {},
   "source": [
    "### Общая информация и поиск дубликатов"
   ]
  },
  {
   "cell_type": "code",
   "execution_count": 10,
   "id": "5f5de82c",
   "metadata": {},
   "outputs": [
    {
     "name": "stdout",
     "output_type": "stream",
     "text": [
      "<class 'pandas.core.frame.DataFrame'>\n",
      "RangeIndex: 1565 entries, 0 to 1564\n",
      "Data columns (total 5 columns):\n",
      " #   Column             Non-Null Count  Dtype \n",
      "---  ------             --------------  ----- \n",
      " 0   user_id            1565 non-null   int64 \n",
      " 1   name               1565 non-null   object\n",
      " 2   age                1565 non-null   int64 \n",
      " 3   city               1565 non-null   object\n",
      " 4   subscription_type  1565 non-null   object\n",
      "dtypes: int64(2), object(3)\n",
      "memory usage: 61.3+ KB\n",
      "None\n",
      "Количество явных дубликатов в `users_go.csv` =  31\n"
     ]
    }
   ],
   "source": [
    "print(users.info())\n",
    "print('Количество явных дубликатов в `users_go.csv` = ', users.duplicated().sum())"
   ]
  },
  {
   "cell_type": "code",
   "execution_count": 11,
   "id": "1ab00b2f",
   "metadata": {},
   "outputs": [
    {
     "name": "stdout",
     "output_type": "stream",
     "text": [
      "      user_id      name  age            city subscription_type\n",
      "15         16    Амалия   27       Краснодар             ultra\n",
      "42         43  Стефания   22            Омск             ultra\n",
      "46         47      Юрий   28          Тюмень             ultra\n",
      "71         72    Никита   25          Москва             ultra\n",
      "107       108     Влада   29          Тюмень             ultra\n",
      "...       ...       ...  ...             ...               ...\n",
      "1560      829     Федор   29       Пятигорск              free\n",
      "1561      809      Юрий   26            Сочи              free\n",
      "1562      307    Ясмина   19       Краснодар             ultra\n",
      "1563       47      Юрий   28          Тюмень             ultra\n",
      "1564     1045   Артемий   28  Ростов-на-Дону              free\n",
      "\n",
      "[62 rows x 5 columns]\n"
     ]
    }
   ],
   "source": [
    "duplicates = users[users.duplicated(keep=False)]\n",
    "print(duplicates)"
   ]
  },
  {
   "cell_type": "code",
   "execution_count": 12,
   "id": "302e31ad",
   "metadata": {},
   "outputs": [],
   "source": [
    "users = users.drop_duplicates()"
   ]
  },
  {
   "cell_type": "code",
   "execution_count": 13,
   "id": "204fdf79",
   "metadata": {},
   "outputs": [
    {
     "name": "stdout",
     "output_type": "stream",
     "text": [
      "<class 'pandas.core.frame.DataFrame'>\n",
      "Int64Index: 1534 entries, 0 to 1533\n",
      "Data columns (total 5 columns):\n",
      " #   Column             Non-Null Count  Dtype \n",
      "---  ------             --------------  ----- \n",
      " 0   user_id            1534 non-null   int64 \n",
      " 1   name               1534 non-null   object\n",
      " 2   age                1534 non-null   int64 \n",
      " 3   city               1534 non-null   object\n",
      " 4   subscription_type  1534 non-null   object\n",
      "dtypes: int64(2), object(3)\n",
      "memory usage: 71.9+ KB\n"
     ]
    }
   ],
   "source": [
    "users.info()"
   ]
  },
  {
   "cell_type": "code",
   "execution_count": 14,
   "id": "48eb740e",
   "metadata": {},
   "outputs": [
    {
     "name": "stdout",
     "output_type": "stream",
     "text": [
      "Количество явных дубликатов в `users_go.csv` =  0\n"
     ]
    }
   ],
   "source": [
    "print('Количество явных дубликатов в `users_go.csv` = ', users.duplicated().sum())"
   ]
  },
  {
   "cell_type": "code",
   "execution_count": 15,
   "id": "44f289db",
   "metadata": {},
   "outputs": [
    {
     "name": "stdout",
     "output_type": "stream",
     "text": [
      "<class 'pandas.core.frame.DataFrame'>\n",
      "RangeIndex: 18068 entries, 0 to 18067\n",
      "Data columns (total 5 columns):\n",
      " #   Column    Non-Null Count  Dtype         \n",
      "---  ------    --------------  -----         \n",
      " 0   user_id   18068 non-null  int64         \n",
      " 1   distance  18068 non-null  float64       \n",
      " 2   duration  18068 non-null  int32         \n",
      " 3   date      18068 non-null  datetime64[ns]\n",
      " 4   month     18068 non-null  int64         \n",
      "dtypes: datetime64[ns](1), float64(1), int32(1), int64(2)\n",
      "memory usage: 635.3 KB\n",
      "None\n",
      "Количество явных дубликатов в `rides_go.csv` =  0\n"
     ]
    }
   ],
   "source": [
    "print(rides.info())\n",
    "print('Количество явных дубликатов в `rides_go.csv` = ', rides.duplicated().sum())"
   ]
  },
  {
   "cell_type": "markdown",
   "id": "bb14f909",
   "metadata": {},
   "source": [
    "<div class=\"alert alert-success\">\n",
    "<b>Комментарий ревьюера:</b>☀️\n",
    "    \n",
    "И про дубликаты не забываешь, замечательно. Но действия по первичному анализу датафреймов схожи, можно было бы функцию написать "
   ]
  },
  {
   "cell_type": "code",
   "execution_count": 16,
   "id": "f96ceee8",
   "metadata": {},
   "outputs": [
    {
     "name": "stdout",
     "output_type": "stream",
     "text": [
      "<class 'pandas.core.frame.DataFrame'>\n",
      "RangeIndex: 2 entries, 0 to 1\n",
      "Data columns (total 4 columns):\n",
      " #   Column             Non-Null Count  Dtype \n",
      "---  ------             --------------  ----- \n",
      " 0   subscription_type  2 non-null      object\n",
      " 1   minute_price       2 non-null      int64 \n",
      " 2   start_ride_price   2 non-null      int64 \n",
      " 3   subscription_fee   2 non-null      int64 \n",
      "dtypes: int64(3), object(1)\n",
      "memory usage: 192.0+ bytes\n",
      "None\n"
     ]
    }
   ],
   "source": [
    "print(subs.info())"
   ]
  },
  {
   "cell_type": "markdown",
   "id": "9f278b2e",
   "metadata": {},
   "source": [
    "#### Выводы:\n",
    "##### 1) В users 1565 записей, 31 явных дубликатов и 0 пропусков. Мы избавились от всех явных дубликатов.\n",
    "##### 2) В rides 18067 записей, 0 явных дубликатов, 0 пропусков.\n",
    "##### 3) В subs 2 записи, пропусков и явных дубликатов нет. \n",
    "##### 4) Названия столбцов в норме, соответствуют требованиям читабельности. \n",
    "##### 5) По этим данным можно проводить анализ."
   ]
  },
  {
   "cell_type": "markdown",
   "id": "9433090e",
   "metadata": {},
   "source": [
    "## Шаг 3. Исследовательский анализ данных"
   ]
  },
  {
   "cell_type": "markdown",
   "id": "3b6558ea",
   "metadata": {},
   "source": [
    "### Описание и визуализация общей информации о пользователях и поездках:"
   ]
  },
  {
   "cell_type": "markdown",
   "id": "12675b65",
   "metadata": {},
   "source": [
    "#### 3.1 частота встречаемости городов;"
   ]
  },
  {
   "cell_type": "code",
   "execution_count": 17,
   "id": "3d7ab8a7",
   "metadata": {},
   "outputs": [
    {
     "data": {
      "image/png": "[encoded data removed]",
      "text/plain": [
       "<Figure size 1000x500 with 1 Axes>"
      ]
     },
     "metadata": {},
     "output_type": "display_data"
    }
   ],
   "source": [
    "pivot_table = users.pivot_table(index='city', \n",
    "                                values='user_id', \n",
    "                                aggfunc='count').sort_values(by='user_id', \n",
    "                                                             ascending=True)\n",
    "\n",
    "plt.figure(figsize=(10, 5))\n",
    "ax = sns.barplot(x=pivot_table['user_id'], y=pivot_table.index)\n",
    "\n",
    "plt.title('Количество пользователей по городам', fontsize=16)\n",
    "plt.xlabel('Количество пользователей', fontsize=14)\n",
    "plt.ylabel('Города', fontsize=14)\n",
    "\n",
    "plt.grid(True, axis='x', linestyle='--', alpha=0.7)\n",
    "\n",
    "plt.show()"
   ]
  },
  {
   "cell_type": "code",
   "execution_count": 51,
   "id": "c622c443",
   "metadata": {},
   "outputs": [
    {
     "name": "stdout",
     "output_type": "stream",
     "text": [
      "Пятигорск         219\n",
      "Екатеринбург      204\n",
      "Ростов-на-Дону    198\n",
      "Краснодар         193\n",
      "Сочи              189\n",
      "Омск              183\n",
      "Тюмень            180\n",
      "Москва            168\n",
      "Name: city, dtype: int64\n"
     ]
    }
   ],
   "source": [
    "print(users['city'].value_counts())"
   ]
  },
  {
   "cell_type": "markdown",
   "id": "f9eec326",
   "metadata": {},
   "source": [
    "<div class=\"alert alert-danger\">\n",
    "<b>Комментарий ревьюера:</b>☁️\n",
    "\n",
    "Здесь хотелось видеть абсолютное число пользователей по городам численно, просто вывод `value_counts`\n",
    "\n",
    "</div>"
   ]
  },
  {
   "cell_type": "markdown",
   "id": "54176ef6",
   "metadata": {},
   "source": [
    "<div class=\"alert alert-info\"> <b>Комментарий студента:</b> С твоего позволения оставлю визуализацию, она мне очень нравится:)</div>"
   ]
  },
  {
   "cell_type": "markdown",
   "id": "2a166d14",
   "metadata": {},
   "source": [
    "<div class=\"alert alert-success\">\n",
    "<b>Комментарий ревьюера v2:</b>☀️\n",
    "   \n",
    "ДА, конечно, дополнительно хотел увидеть вывод числа пользователей по городам и ты добавила это\n",
    "\n",
    "</div>"
   ]
  },
  {
   "cell_type": "markdown",
   "id": "19a0e923",
   "metadata": {},
   "source": [
    "##### Первую тройку занимают Пятигорск, Екатеринбург и Ростов-на-Дону. "
   ]
  },
  {
   "cell_type": "markdown",
   "id": "81c42bfc",
   "metadata": {},
   "source": [
    "#### 3.2 соотношение пользователей с подпиской и без подписки;"
   ]
  },
  {
   "cell_type": "code",
   "execution_count": 18,
   "id": "88197605",
   "metadata": {},
   "outputs": [
    {
     "data": {
      "image/png": "[encoded data removed]",
      "text/plain": [
       "<Figure size 1000x1000 with 1 Axes>"
      ]
     },
     "metadata": {},
     "output_type": "display_data"
    }
   ],
   "source": [
    "pivot_table = users.pivot_table(index='subscription_type', values='user_id', aggfunc='count')\n",
    "\n",
    "sns.set(style='whitegrid')\n",
    "colors = sns.color_palette(\"pastel\")\n",
    "\n",
    "plt.figure(figsize=(10, 10))\n",
    "plt.pie(pivot_table['user_id'], labels=pivot_table.index, autopct='%1.1f%%', startangle=45, colors=colors)\n",
    "\n",
    "plt.title('Отношение пользователей `free` - без подписки, `ultra` - с подпиской, к общему количеству', fontsize=16)\n",
    "\n",
    "plt.axis('equal');\n"
   ]
  },
  {
   "cell_type": "markdown",
   "id": "8b51cce4",
   "metadata": {},
   "source": [
    "#### Пользователей без подписки больше на 8,8%"
   ]
  },
  {
   "cell_type": "markdown",
   "id": "84f74ee5",
   "metadata": {},
   "source": [
    "#### 3.3 Возраст пользователей"
   ]
  },
  {
   "cell_type": "code",
   "execution_count": 19,
   "id": "080ca700",
   "metadata": {},
   "outputs": [],
   "source": [
    "sns.set(style='whitegrid')\n",
    "palette = sns.color_palette(\"husl\")"
   ]
  },
  {
   "cell_type": "code",
   "execution_count": 20,
   "id": "86e181ec",
   "metadata": {},
   "outputs": [],
   "source": [
    "pivot_table = users.pivot_table(index='age',\n",
    "                                   values='user_id', \n",
    "                                   aggfunc='count').sort_values(by='age', ascending=True)"
   ]
  },
  {
   "cell_type": "code",
   "execution_count": 21,
   "id": "92dde2af",
   "metadata": {},
   "outputs": [
    {
     "data": {
      "image/png": "[encoded data removed]",
      "text/plain": [
       "<Figure size 1000x500 with 1 Axes>"
      ]
     },
     "metadata": {},
     "output_type": "display_data"
    }
   ],
   "source": [
    "plt.figure(figsize=(10, 5))\n",
    "ax = sns.barplot(x=pivot_table.index, y=pivot_table['user_id'])\n",
    "\n",
    "plt.title('Количество пользователей по возрастам', fontsize=16)\n",
    "plt.xlabel('Возраст', fontsize=14)\n",
    "plt.ylabel('Количество', fontsize=14)\n",
    "\n",
    "plt.grid(True, axis='y', linestyle='--', alpha=0.7)\n",
    "\n",
    "plt.show()"
   ]
  },
  {
   "cell_type": "markdown",
   "id": "68db63ec",
   "metadata": {},
   "source": [
    "<div class=\"alert alert-warning\">\n",
    "<b>Комментарий ревьюера:</b>⛅️ \n",
    "\n",
    "А что сходится? \n",
    "    \n",
    "</div>"
   ]
  },
  {
   "cell_type": "markdown",
   "id": "065c9331",
   "metadata": {},
   "source": [
    "<div class=\"alert alert-info\"> <b>Комментарий студента:</b> Я имела в виду, что медиана и среднее почти одинаковые, они сходятся, а это значит, что скорее всего нет выбросов. </div>"
   ]
  },
  {
   "cell_type": "markdown",
   "id": "9f91e35e",
   "metadata": {},
   "source": [
    "<div class=\"alert alert-warning\">\n",
    "<b>Комментарий ревьюера v2:</b>⛅️ \n",
    "\n",
    "Скорее это больше говорит о симметричности. В экстремальном случае может быть один супер большой выброс и один супер маленький и они бы скомпенсировали друг друга, тогда медиана и средние также были бы близки. (Конкретно здесь возраст довольно ограниченный по диапазону значений признак, но для других признаков это возможно) \n",
    "</div>"
   ]
  },
  {
   "cell_type": "code",
   "execution_count": 22,
   "id": "e5f4aae3",
   "metadata": {},
   "outputs": [
    {
     "name": "stdout",
     "output_type": "stream",
     "text": [
      "Средний возраст пользователей: 24.903520208604956\n"
     ]
    }
   ],
   "source": [
    "mean_age = users['age'].mean()\n",
    "print(f'Средний возраст пользователей: {mean_age}')"
   ]
  },
  {
   "cell_type": "code",
   "execution_count": 23,
   "id": "e64278e6",
   "metadata": {},
   "outputs": [
    {
     "name": "stdout",
     "output_type": "stream",
     "text": [
      "count    1534.000000\n",
      "mean       24.903520\n",
      "std         4.572367\n",
      "min        12.000000\n",
      "25%        22.000000\n",
      "50%        25.000000\n",
      "75%        28.000000\n",
      "max        43.000000\n",
      "Name: age, dtype: float64\n"
     ]
    }
   ],
   "source": [
    "age_description = users['age'].describe()\n",
    "print(age_description)"
   ]
  },
  {
   "cell_type": "markdown",
   "id": "33902a34",
   "metadata": {},
   "source": [
    "#### Средний возраст пользователей 24,9 лет, медианный показатель - 25 лет. "
   ]
  },
  {
   "cell_type": "markdown",
   "id": "2877638d",
   "metadata": {},
   "source": [
    "#### 3.4 расстояние, которое пользователь преодолел за одну поездку;"
   ]
  },
  {
   "cell_type": "code",
   "execution_count": 24,
   "id": "92c5eb21",
   "metadata": {},
   "outputs": [],
   "source": [
    "sns.set(style='whitegrid')\n",
    "palette = sns.color_palette(\"husl\")\n"
   ]
  },
  {
   "cell_type": "code",
   "execution_count": 25,
   "id": "e7d1ee79",
   "metadata": {},
   "outputs": [
    {
     "data": {
      "image/png": "[encoded data removed]",
      "text/plain": [
       "<Figure size 1200x800 with 1 Axes>"
      ]
     },
     "metadata": {},
     "output_type": "display_data"
    }
   ],
   "source": [
    "plt.figure(figsize=(12, 8))\n",
    "sns.histplot(rides['distance'], bins=50, kde=True, color=palette[2])\n",
    "\n",
    "\n",
    "plt.title('Зависимость количества поездок от расстояния', fontsize=16)\n",
    "plt.xlabel('Расстояние (м)', fontsize=14)\n",
    "plt.ylabel('Количество поездок', fontsize=14)\n",
    "\n",
    "plt.grid(True, linestyle='--', alpha=0.7)\n",
    "\n",
    "\n",
    "plt.show()"
   ]
  },
  {
   "cell_type": "code",
   "execution_count": 26,
   "id": "054a6482",
   "metadata": {},
   "outputs": [
    {
     "data": {
      "text/plain": [
       "count    18068.000000\n",
       "mean      3070.659992\n",
       "std       1116.831222\n",
       "min          0.860000\n",
       "25%       2543.227500\n",
       "50%       3133.610000\n",
       "75%       3776.220000\n",
       "max       7211.010000\n",
       "Name: distance, dtype: float64"
      ]
     },
     "execution_count": 26,
     "metadata": {},
     "output_type": "execute_result"
    }
   ],
   "source": [
    "rides['distance'].describe()"
   ]
  },
  {
   "cell_type": "markdown",
   "id": "e6a8a71f",
   "metadata": {},
   "source": [
    "#### Наибольшее количество поездок приходится на расстояние 3070 метром. Медиана (3133) и среднее отличаются не сильно. Также есть небольшой всплеск на расстоянии 500м. Могу выдвинуть предположение, что этот всплеск связан с тем, что есть пользователи, которые пользуются самокатом впервые, и не могут проехать много в силу непривычности. "
   ]
  },
  {
   "cell_type": "markdown",
   "id": "dc455318",
   "metadata": {},
   "source": [
    "<div class=\"alert alert-success\">\n",
    "<b>Комментарий ревьюера:</b>☀️\n",
    "    \n",
    "Спасибо за гипотезу, если что-то можно проверить по данным, то лучше проверять и на основе этого уже выдвигать гипотезу, в данном случае можно посмотреть какая дистанция первых поездок, отличается ли от повторных и в таком случае гипотеза будет более ценной\n",
    "    \n",
    "    \n",
    "Наличие пары пиков дистанций наталкивает на мысль, что может быть несколько сценариев пользования приложением и с этими категориями стоит отдельно работать"
   ]
  },
  {
   "cell_type": "markdown",
   "id": "4246a304",
   "metadata": {},
   "source": [
    "#### 3.5 Продолжительность поездок."
   ]
  },
  {
   "cell_type": "code",
   "execution_count": 27,
   "id": "b40fe796",
   "metadata": {},
   "outputs": [],
   "source": [
    "sns.set(style='whitegrid')\n",
    "palette = sns.color_palette(\"husl\")"
   ]
  },
  {
   "cell_type": "code",
   "execution_count": 28,
   "id": "cc3b0357",
   "metadata": {},
   "outputs": [
    {
     "data": {
      "image/png": "[encoded data removed]",
      "text/plain": [
       "<Figure size 1200x800 with 1 Axes>"
      ]
     },
     "metadata": {},
     "output_type": "display_data"
    }
   ],
   "source": [
    "plt.figure(figsize=(12, 8))\n",
    "sns.histplot(rides['duration'], bins=50, kde=True, color=palette[2])\n",
    "\n",
    "\n",
    "plt.title('Зависимость количества поездок от продолжительности', fontsize=16)\n",
    "plt.xlabel('Продолжительность', fontsize=14)\n",
    "plt.ylabel('Количество поездок', fontsize=14)\n",
    "\n",
    "plt.grid(True, linestyle='--', alpha=0.7)\n",
    "\n",
    "\n",
    "plt.show()"
   ]
  },
  {
   "cell_type": "code",
   "execution_count": 29,
   "id": "79671ef9",
   "metadata": {},
   "outputs": [
    {
     "data": {
      "text/plain": [
       "count    18068.000000\n",
       "mean        18.303520\n",
       "std          6.094928\n",
       "min          1.000000\n",
       "25%         14.000000\n",
       "50%         18.000000\n",
       "75%         22.000000\n",
       "max         41.000000\n",
       "Name: duration, dtype: float64"
      ]
     },
     "execution_count": 29,
     "metadata": {},
     "output_type": "execute_result"
    }
   ],
   "source": [
    "rides['duration'].describe()"
   ]
  },
  {
   "cell_type": "markdown",
   "id": "fc69df7e",
   "metadata": {},
   "source": [
    "#### Медианное и среднее время совпадают (~ 18 минут). Однако есть аномальное значение  - поездки длительностью менее минуты. Пока оставим, но будем иметь в виду."
   ]
  },
  {
   "cell_type": "markdown",
   "id": "d84638fc",
   "metadata": {},
   "source": [
    "<div class=\"alert alert-danger\">\n",
    "<b>Комментарий ревьюера:</b>☁️\n",
    "\n",
    "А вот здесь красным, так как критически хочу обратить внимание на этот аспект.\n",
    "    \n",
    "Генерировать гипотезы, которые объясняют закономерности, аномалии - отличное стремление. Но если то, что ты предполагаешь можно проверить по имеющимся данным, то лучше сначала проверять, а потом утверждать, чтобы не подталкивать к неверным выводам.\n",
    "\n",
    "\n",
    "Здесь это про расстояние крайне коротких по времени поездок\n",
    "</div>"
   ]
  },
  {
   "cell_type": "markdown",
   "id": "43fdbcae",
   "metadata": {},
   "source": [
    "<div class=\"alert alert-info\"> <b>Комментарий студента:</b> Поняла, да. Нужно больше конкретики. Спасибо за замечание! </div>"
   ]
  },
  {
   "cell_type": "markdown",
   "id": "c6a4bb10",
   "metadata": {},
   "source": [
    "<div class=\"alert alert-success\">\n",
    "<b>Комментарий ревьюера v2:</b>☀️\n",
    "   \n",
    "\n",
    "Если посмотреть дистанцию таких сверх коротких по времени поездок, среднее будет около 4км, что явно сигнализирует о какой-то технической беде.\n",
    "    \n",
    "    \n",
    "Удачи в дальнейшем обучении!\n",
    "</div>"
   ]
  },
  {
   "cell_type": "markdown",
   "id": "5a586e81",
   "metadata": {},
   "source": [
    "### Выводы по исследовательскому анализу данных. \n",
    "\n",
    "#### 1) Больше всего самокатов арендуют в Пятигорске, Екатеринбурге и Ростове-на-Дону\n",
    "#### 2) Количество пользователей без подписки больше на 8.8%\n",
    "#### 3) Распределение среднего возраста арендаторов нормальное, среднее и  медиана ~ 25 лет.\n",
    "#### 4) Наибольшее количество поездок приходится на расстояние 3070 метров. Медиана (3133 м) и среднее значение отличаются незначительно. Также наблюдается небольшой пик на расстоянии 500 метров. Это может быть связано с тем, что некоторые пользователи используют самокат впервые и не могут проехать большое расстояние из-за непривычности.\n",
    "#### 5) Медианное и среднее время поездок совпадают (~18 минут). Однако есть аномалия - поездки продолжительностью менее минуты. Возможно, это связано с новыми пользователями, которые не имеют опыта езды на самокатах и поэтому проезжают короткое расстояние за небольшой промежуток времени."
   ]
  },
  {
   "cell_type": "markdown",
   "id": "06dc354d",
   "metadata": {},
   "source": [
    "### Шаг 4. Объединение данных"
   ]
  },
  {
   "cell_type": "markdown",
   "id": "cf8a7d94",
   "metadata": {},
   "source": [
    "#### Объединение данных о пользователях, поездках и подписках в один датафрейм с помощью метода merge()."
   ]
  },
  {
   "cell_type": "markdown",
   "id": "f0a77b49",
   "metadata": {},
   "source": [
    "#### Общий столбец user_id используется для идентификации пользователей во всех трёх датафреймах (rides, subs, users)."
   ]
  },
  {
   "cell_type": "code",
   "execution_count": 30,
   "id": "153846bb",
   "metadata": {},
   "outputs": [],
   "source": [
    "merged_data = pd.merge(rides, users, on='user_id')"
   ]
  },
  {
   "cell_type": "code",
   "execution_count": 31,
   "id": "604ef017",
   "metadata": {},
   "outputs": [],
   "source": [
    "merged_data = pd.merge(merged_data, subs, on='subscription_type')"
   ]
  },
  {
   "cell_type": "code",
   "execution_count": 32,
   "id": "ee224b1e",
   "metadata": {},
   "outputs": [
    {
     "data": {
      "text/html": [
       "<div>\n",
       "<style scoped>\n",
       "    .dataframe tbody tr th:only-of-type {\n",
       "        vertical-align: middle;\n",
       "    }\n",
       "\n",
       "    .dataframe tbody tr th {\n",
       "        vertical-align: top;\n",
       "    }\n",
       "\n",
       "    .dataframe thead th {\n",
       "        text-align: right;\n",
       "    }\n",
       "</style>\n",
       "<table border=\"1\" class=\"dataframe\">\n",
       "  <thead>\n",
       "    <tr style=\"text-align: right;\">\n",
       "      <th></th>\n",
       "      <th>user_id</th>\n",
       "      <th>distance</th>\n",
       "      <th>duration</th>\n",
       "      <th>date</th>\n",
       "      <th>month</th>\n",
       "      <th>name</th>\n",
       "      <th>age</th>\n",
       "      <th>city</th>\n",
       "      <th>subscription_type</th>\n",
       "      <th>minute_price</th>\n",
       "      <th>start_ride_price</th>\n",
       "      <th>subscription_fee</th>\n",
       "    </tr>\n",
       "  </thead>\n",
       "  <tbody>\n",
       "    <tr>\n",
       "      <th>0</th>\n",
       "      <td>1</td>\n",
       "      <td>4409.92</td>\n",
       "      <td>26</td>\n",
       "      <td>2021-01-01</td>\n",
       "      <td>1</td>\n",
       "      <td>Кира</td>\n",
       "      <td>22</td>\n",
       "      <td>Тюмень</td>\n",
       "      <td>ultra</td>\n",
       "      <td>6</td>\n",
       "      <td>0</td>\n",
       "      <td>199</td>\n",
       "    </tr>\n",
       "    <tr>\n",
       "      <th>1</th>\n",
       "      <td>1</td>\n",
       "      <td>2617.59</td>\n",
       "      <td>16</td>\n",
       "      <td>2021-01-18</td>\n",
       "      <td>1</td>\n",
       "      <td>Кира</td>\n",
       "      <td>22</td>\n",
       "      <td>Тюмень</td>\n",
       "      <td>ultra</td>\n",
       "      <td>6</td>\n",
       "      <td>0</td>\n",
       "      <td>199</td>\n",
       "    </tr>\n",
       "    <tr>\n",
       "      <th>2</th>\n",
       "      <td>1</td>\n",
       "      <td>754.16</td>\n",
       "      <td>7</td>\n",
       "      <td>2021-04-20</td>\n",
       "      <td>4</td>\n",
       "      <td>Кира</td>\n",
       "      <td>22</td>\n",
       "      <td>Тюмень</td>\n",
       "      <td>ultra</td>\n",
       "      <td>6</td>\n",
       "      <td>0</td>\n",
       "      <td>199</td>\n",
       "    </tr>\n",
       "    <tr>\n",
       "      <th>3</th>\n",
       "      <td>1</td>\n",
       "      <td>2694.78</td>\n",
       "      <td>19</td>\n",
       "      <td>2021-08-11</td>\n",
       "      <td>8</td>\n",
       "      <td>Кира</td>\n",
       "      <td>22</td>\n",
       "      <td>Тюмень</td>\n",
       "      <td>ultra</td>\n",
       "      <td>6</td>\n",
       "      <td>0</td>\n",
       "      <td>199</td>\n",
       "    </tr>\n",
       "    <tr>\n",
       "      <th>4</th>\n",
       "      <td>1</td>\n",
       "      <td>4028.69</td>\n",
       "      <td>27</td>\n",
       "      <td>2021-08-28</td>\n",
       "      <td>8</td>\n",
       "      <td>Кира</td>\n",
       "      <td>22</td>\n",
       "      <td>Тюмень</td>\n",
       "      <td>ultra</td>\n",
       "      <td>6</td>\n",
       "      <td>0</td>\n",
       "      <td>199</td>\n",
       "    </tr>\n",
       "    <tr>\n",
       "      <th>...</th>\n",
       "      <td>...</td>\n",
       "      <td>...</td>\n",
       "      <td>...</td>\n",
       "      <td>...</td>\n",
       "      <td>...</td>\n",
       "      <td>...</td>\n",
       "      <td>...</td>\n",
       "      <td>...</td>\n",
       "      <td>...</td>\n",
       "      <td>...</td>\n",
       "      <td>...</td>\n",
       "      <td>...</td>\n",
       "    </tr>\n",
       "    <tr>\n",
       "      <th>18063</th>\n",
       "      <td>1534</td>\n",
       "      <td>3781.10</td>\n",
       "      <td>20</td>\n",
       "      <td>2021-11-04</td>\n",
       "      <td>11</td>\n",
       "      <td>Альберт</td>\n",
       "      <td>25</td>\n",
       "      <td>Краснодар</td>\n",
       "      <td>free</td>\n",
       "      <td>8</td>\n",
       "      <td>50</td>\n",
       "      <td>0</td>\n",
       "    </tr>\n",
       "    <tr>\n",
       "      <th>18064</th>\n",
       "      <td>1534</td>\n",
       "      <td>2840.42</td>\n",
       "      <td>22</td>\n",
       "      <td>2021-11-16</td>\n",
       "      <td>11</td>\n",
       "      <td>Альберт</td>\n",
       "      <td>25</td>\n",
       "      <td>Краснодар</td>\n",
       "      <td>free</td>\n",
       "      <td>8</td>\n",
       "      <td>50</td>\n",
       "      <td>0</td>\n",
       "    </tr>\n",
       "    <tr>\n",
       "      <th>18065</th>\n",
       "      <td>1534</td>\n",
       "      <td>3826.19</td>\n",
       "      <td>19</td>\n",
       "      <td>2021-11-18</td>\n",
       "      <td>11</td>\n",
       "      <td>Альберт</td>\n",
       "      <td>25</td>\n",
       "      <td>Краснодар</td>\n",
       "      <td>free</td>\n",
       "      <td>8</td>\n",
       "      <td>50</td>\n",
       "      <td>0</td>\n",
       "    </tr>\n",
       "    <tr>\n",
       "      <th>18066</th>\n",
       "      <td>1534</td>\n",
       "      <td>2902.31</td>\n",
       "      <td>17</td>\n",
       "      <td>2021-11-27</td>\n",
       "      <td>11</td>\n",
       "      <td>Альберт</td>\n",
       "      <td>25</td>\n",
       "      <td>Краснодар</td>\n",
       "      <td>free</td>\n",
       "      <td>8</td>\n",
       "      <td>50</td>\n",
       "      <td>0</td>\n",
       "    </tr>\n",
       "    <tr>\n",
       "      <th>18067</th>\n",
       "      <td>1534</td>\n",
       "      <td>2371.71</td>\n",
       "      <td>16</td>\n",
       "      <td>2021-12-29</td>\n",
       "      <td>12</td>\n",
       "      <td>Альберт</td>\n",
       "      <td>25</td>\n",
       "      <td>Краснодар</td>\n",
       "      <td>free</td>\n",
       "      <td>8</td>\n",
       "      <td>50</td>\n",
       "      <td>0</td>\n",
       "    </tr>\n",
       "  </tbody>\n",
       "</table>\n",
       "<p>18068 rows × 12 columns</p>\n",
       "</div>"
      ],
      "text/plain": [
       "       user_id  distance  duration       date  month     name  age       city  \\\n",
       "0            1   4409.92        26 2021-01-01      1     Кира   22     Тюмень   \n",
       "1            1   2617.59        16 2021-01-18      1     Кира   22     Тюмень   \n",
       "2            1    754.16         7 2021-04-20      4     Кира   22     Тюмень   \n",
       "3            1   2694.78        19 2021-08-11      8     Кира   22     Тюмень   \n",
       "4            1   4028.69        27 2021-08-28      8     Кира   22     Тюмень   \n",
       "...        ...       ...       ...        ...    ...      ...  ...        ...   \n",
       "18063     1534   3781.10        20 2021-11-04     11  Альберт   25  Краснодар   \n",
       "18064     1534   2840.42        22 2021-11-16     11  Альберт   25  Краснодар   \n",
       "18065     1534   3826.19        19 2021-11-18     11  Альберт   25  Краснодар   \n",
       "18066     1534   2902.31        17 2021-11-27     11  Альберт   25  Краснодар   \n",
       "18067     1534   2371.71        16 2021-12-29     12  Альберт   25  Краснодар   \n",
       "\n",
       "      subscription_type  minute_price  start_ride_price  subscription_fee  \n",
       "0                 ultra             6                 0               199  \n",
       "1                 ultra             6                 0               199  \n",
       "2                 ultra             6                 0               199  \n",
       "3                 ultra             6                 0               199  \n",
       "4                 ultra             6                 0               199  \n",
       "...                 ...           ...               ...               ...  \n",
       "18063              free             8                50                 0  \n",
       "18064              free             8                50                 0  \n",
       "18065              free             8                50                 0  \n",
       "18066              free             8                50                 0  \n",
       "18067              free             8                50                 0  \n",
       "\n",
       "[18068 rows x 12 columns]"
      ]
     },
     "metadata": {},
     "output_type": "display_data"
    }
   ],
   "source": [
    "display(merged_data)"
   ]
  },
  {
   "cell_type": "code",
   "execution_count": 53,
   "id": "0fa1c6d0",
   "metadata": {},
   "outputs": [
    {
     "name": "stdout",
     "output_type": "stream",
     "text": [
      "Пропусков в объединенной таблице нет.\n",
      "Размер объединенной таблицы соответствует ожиданиям: 18068 строк.\n"
     ]
    }
   ],
   "source": [
    "missing_values = merged_data.isnull().sum().sum()\n",
    "if missing_values == 0:\n",
    "    print(\"Пропусков в объединенной таблице нет.\")\n",
    "else:\n",
    "    print(f\"В объединенной таблице обнаружены пропуски: {missing_values}\")\n",
    "\n",
    "# Проверяем размер таблицы\n",
    "expected_rows = max(len(rides), len(users))\n",
    "actual_rows = len(merged_data)\n",
    "if actual_rows >= expected_rows:\n",
    "    print(f\"Размер объединенной таблицы соответствует ожиданиям: {actual_rows} строк.\")\n",
    "else:\n",
    "    print(f\"Размер объединенной таблицы меньше ожидаемого: {actual_rows} строк вместо {expected_rows}.\")"
   ]
  },
  {
   "cell_type": "markdown",
   "id": "a8eb2381",
   "metadata": {},
   "source": [
    "<div class=\"alert alert-danger\">\n",
    "<b>Комментарий ревьюера:</b>☁️\n",
    "\n",
    "Прошу ещё добавить проверку, что после соединения таблиц не возникли пропуски, что размер объъединенной таблице соответствует ожиданиям\n",
    "\n",
    "</div>"
   ]
  },
  {
   "cell_type": "markdown",
   "id": "2c89b949",
   "metadata": {},
   "source": [
    "#### 4.2 Создаём два датафрейма из созданного на шаге 4.1:"
   ]
  },
  {
   "cell_type": "code",
   "execution_count": 33,
   "id": "d2664413",
   "metadata": {},
   "outputs": [
    {
     "data": {
      "text/html": [
       "<div>\n",
       "<style scoped>\n",
       "    .dataframe tbody tr th:only-of-type {\n",
       "        vertical-align: middle;\n",
       "    }\n",
       "\n",
       "    .dataframe tbody tr th {\n",
       "        vertical-align: top;\n",
       "    }\n",
       "\n",
       "    .dataframe thead th {\n",
       "        text-align: right;\n",
       "    }\n",
       "</style>\n",
       "<table border=\"1\" class=\"dataframe\">\n",
       "  <thead>\n",
       "    <tr style=\"text-align: right;\">\n",
       "      <th></th>\n",
       "      <th>user_id</th>\n",
       "      <th>distance</th>\n",
       "      <th>duration</th>\n",
       "      <th>date</th>\n",
       "      <th>month</th>\n",
       "      <th>name</th>\n",
       "      <th>age</th>\n",
       "      <th>city</th>\n",
       "      <th>subscription_type</th>\n",
       "      <th>minute_price</th>\n",
       "      <th>start_ride_price</th>\n",
       "      <th>subscription_fee</th>\n",
       "    </tr>\n",
       "  </thead>\n",
       "  <tbody>\n",
       "    <tr>\n",
       "      <th>6500</th>\n",
       "      <td>700</td>\n",
       "      <td>2515.69</td>\n",
       "      <td>15</td>\n",
       "      <td>2021-01-02</td>\n",
       "      <td>1</td>\n",
       "      <td>Айдар</td>\n",
       "      <td>22</td>\n",
       "      <td>Омск</td>\n",
       "      <td>free</td>\n",
       "      <td>8</td>\n",
       "      <td>50</td>\n",
       "      <td>0</td>\n",
       "    </tr>\n",
       "    <tr>\n",
       "      <th>6501</th>\n",
       "      <td>700</td>\n",
       "      <td>846.93</td>\n",
       "      <td>17</td>\n",
       "      <td>2021-02-01</td>\n",
       "      <td>2</td>\n",
       "      <td>Айдар</td>\n",
       "      <td>22</td>\n",
       "      <td>Омск</td>\n",
       "      <td>free</td>\n",
       "      <td>8</td>\n",
       "      <td>50</td>\n",
       "      <td>0</td>\n",
       "    </tr>\n",
       "    <tr>\n",
       "      <th>6502</th>\n",
       "      <td>700</td>\n",
       "      <td>4004.43</td>\n",
       "      <td>21</td>\n",
       "      <td>2021-02-04</td>\n",
       "      <td>2</td>\n",
       "      <td>Айдар</td>\n",
       "      <td>22</td>\n",
       "      <td>Омск</td>\n",
       "      <td>free</td>\n",
       "      <td>8</td>\n",
       "      <td>50</td>\n",
       "      <td>0</td>\n",
       "    </tr>\n",
       "    <tr>\n",
       "      <th>6503</th>\n",
       "      <td>700</td>\n",
       "      <td>1205.91</td>\n",
       "      <td>10</td>\n",
       "      <td>2021-02-10</td>\n",
       "      <td>2</td>\n",
       "      <td>Айдар</td>\n",
       "      <td>22</td>\n",
       "      <td>Омск</td>\n",
       "      <td>free</td>\n",
       "      <td>8</td>\n",
       "      <td>50</td>\n",
       "      <td>0</td>\n",
       "    </tr>\n",
       "    <tr>\n",
       "      <th>6504</th>\n",
       "      <td>700</td>\n",
       "      <td>3047.38</td>\n",
       "      <td>18</td>\n",
       "      <td>2021-02-14</td>\n",
       "      <td>2</td>\n",
       "      <td>Айдар</td>\n",
       "      <td>22</td>\n",
       "      <td>Омск</td>\n",
       "      <td>free</td>\n",
       "      <td>8</td>\n",
       "      <td>50</td>\n",
       "      <td>0</td>\n",
       "    </tr>\n",
       "  </tbody>\n",
       "</table>\n",
       "</div>"
      ],
      "text/plain": [
       "      user_id  distance  duration       date  month   name  age  city  \\\n",
       "6500      700   2515.69        15 2021-01-02      1  Айдар   22  Омск   \n",
       "6501      700    846.93        17 2021-02-01      2  Айдар   22  Омск   \n",
       "6502      700   4004.43        21 2021-02-04      2  Айдар   22  Омск   \n",
       "6503      700   1205.91        10 2021-02-10      2  Айдар   22  Омск   \n",
       "6504      700   3047.38        18 2021-02-14      2  Айдар   22  Омск   \n",
       "\n",
       "     subscription_type  minute_price  start_ride_price  subscription_fee  \n",
       "6500              free             8                50                 0  \n",
       "6501              free             8                50                 0  \n",
       "6502              free             8                50                 0  \n",
       "6503              free             8                50                 0  \n",
       "6504              free             8                50                 0  "
      ]
     },
     "execution_count": 33,
     "metadata": {},
     "output_type": "execute_result"
    }
   ],
   "source": [
    "users_free = merged_data[merged_data['subscription_type'] == 'free']\n",
    "users_free.head()"
   ]
  },
  {
   "cell_type": "code",
   "execution_count": 34,
   "id": "dafaa93f",
   "metadata": {},
   "outputs": [
    {
     "data": {
      "text/plain": [
       "count    11568.000000\n",
       "mean      3045.495284\n",
       "std       1246.173810\n",
       "min          0.860000\n",
       "25%       2366.560000\n",
       "50%       3114.650000\n",
       "75%       3905.695000\n",
       "max       7211.010000\n",
       "Name: distance, dtype: float64"
      ]
     },
     "execution_count": 34,
     "metadata": {},
     "output_type": "execute_result"
    }
   ],
   "source": [
    "users_free['distance'].describe()"
   ]
  },
  {
   "cell_type": "code",
   "execution_count": 35,
   "id": "6f6e70f9",
   "metadata": {},
   "outputs": [
    {
     "data": {
      "text/plain": [
       "count    11568.000000\n",
       "mean        17.890992\n",
       "std          6.330250\n",
       "min          1.000000\n",
       "25%         13.000000\n",
       "50%         18.000000\n",
       "75%         22.000000\n",
       "max         35.000000\n",
       "Name: duration, dtype: float64"
      ]
     },
     "execution_count": 35,
     "metadata": {},
     "output_type": "execute_result"
    }
   ],
   "source": [
    "users_free['duration'].describe()"
   ]
  },
  {
   "cell_type": "code",
   "execution_count": 36,
   "id": "3111e700",
   "metadata": {},
   "outputs": [
    {
     "data": {
      "text/html": [
       "<div>\n",
       "<style scoped>\n",
       "    .dataframe tbody tr th:only-of-type {\n",
       "        vertical-align: middle;\n",
       "    }\n",
       "\n",
       "    .dataframe tbody tr th {\n",
       "        vertical-align: top;\n",
       "    }\n",
       "\n",
       "    .dataframe thead th {\n",
       "        text-align: right;\n",
       "    }\n",
       "</style>\n",
       "<table border=\"1\" class=\"dataframe\">\n",
       "  <thead>\n",
       "    <tr style=\"text-align: right;\">\n",
       "      <th></th>\n",
       "      <th>user_id</th>\n",
       "      <th>distance</th>\n",
       "      <th>duration</th>\n",
       "      <th>date</th>\n",
       "      <th>month</th>\n",
       "      <th>name</th>\n",
       "      <th>age</th>\n",
       "      <th>city</th>\n",
       "      <th>subscription_type</th>\n",
       "      <th>minute_price</th>\n",
       "      <th>start_ride_price</th>\n",
       "      <th>subscription_fee</th>\n",
       "    </tr>\n",
       "  </thead>\n",
       "  <tbody>\n",
       "    <tr>\n",
       "      <th>0</th>\n",
       "      <td>1</td>\n",
       "      <td>4409.92</td>\n",
       "      <td>26</td>\n",
       "      <td>2021-01-01</td>\n",
       "      <td>1</td>\n",
       "      <td>Кира</td>\n",
       "      <td>22</td>\n",
       "      <td>Тюмень</td>\n",
       "      <td>ultra</td>\n",
       "      <td>6</td>\n",
       "      <td>0</td>\n",
       "      <td>199</td>\n",
       "    </tr>\n",
       "    <tr>\n",
       "      <th>1</th>\n",
       "      <td>1</td>\n",
       "      <td>2617.59</td>\n",
       "      <td>16</td>\n",
       "      <td>2021-01-18</td>\n",
       "      <td>1</td>\n",
       "      <td>Кира</td>\n",
       "      <td>22</td>\n",
       "      <td>Тюмень</td>\n",
       "      <td>ultra</td>\n",
       "      <td>6</td>\n",
       "      <td>0</td>\n",
       "      <td>199</td>\n",
       "    </tr>\n",
       "    <tr>\n",
       "      <th>2</th>\n",
       "      <td>1</td>\n",
       "      <td>754.16</td>\n",
       "      <td>7</td>\n",
       "      <td>2021-04-20</td>\n",
       "      <td>4</td>\n",
       "      <td>Кира</td>\n",
       "      <td>22</td>\n",
       "      <td>Тюмень</td>\n",
       "      <td>ultra</td>\n",
       "      <td>6</td>\n",
       "      <td>0</td>\n",
       "      <td>199</td>\n",
       "    </tr>\n",
       "    <tr>\n",
       "      <th>3</th>\n",
       "      <td>1</td>\n",
       "      <td>2694.78</td>\n",
       "      <td>19</td>\n",
       "      <td>2021-08-11</td>\n",
       "      <td>8</td>\n",
       "      <td>Кира</td>\n",
       "      <td>22</td>\n",
       "      <td>Тюмень</td>\n",
       "      <td>ultra</td>\n",
       "      <td>6</td>\n",
       "      <td>0</td>\n",
       "      <td>199</td>\n",
       "    </tr>\n",
       "    <tr>\n",
       "      <th>4</th>\n",
       "      <td>1</td>\n",
       "      <td>4028.69</td>\n",
       "      <td>27</td>\n",
       "      <td>2021-08-28</td>\n",
       "      <td>8</td>\n",
       "      <td>Кира</td>\n",
       "      <td>22</td>\n",
       "      <td>Тюмень</td>\n",
       "      <td>ultra</td>\n",
       "      <td>6</td>\n",
       "      <td>0</td>\n",
       "      <td>199</td>\n",
       "    </tr>\n",
       "  </tbody>\n",
       "</table>\n",
       "</div>"
      ],
      "text/plain": [
       "   user_id  distance  duration       date  month  name  age    city  \\\n",
       "0        1   4409.92        26 2021-01-01      1  Кира   22  Тюмень   \n",
       "1        1   2617.59        16 2021-01-18      1  Кира   22  Тюмень   \n",
       "2        1    754.16         7 2021-04-20      4  Кира   22  Тюмень   \n",
       "3        1   2694.78        19 2021-08-11      8  Кира   22  Тюмень   \n",
       "4        1   4028.69        27 2021-08-28      8  Кира   22  Тюмень   \n",
       "\n",
       "  subscription_type  minute_price  start_ride_price  subscription_fee  \n",
       "0             ultra             6                 0               199  \n",
       "1             ultra             6                 0               199  \n",
       "2             ultra             6                 0               199  \n",
       "3             ultra             6                 0               199  \n",
       "4             ultra             6                 0               199  "
      ]
     },
     "execution_count": 36,
     "metadata": {},
     "output_type": "execute_result"
    }
   ],
   "source": [
    "users_ultra = merged_data[merged_data['subscription_type'] == 'ultra']\n",
    "users_ultra.head()"
   ]
  },
  {
   "cell_type": "code",
   "execution_count": 37,
   "id": "bd1fa521",
   "metadata": {},
   "outputs": [
    {
     "data": {
      "text/plain": [
       "count    6500.000000\n",
       "mean       19.037692\n",
       "std         5.577439\n",
       "min         4.000000\n",
       "25%        15.000000\n",
       "50%        19.000000\n",
       "75%        22.000000\n",
       "max        41.000000\n",
       "Name: duration, dtype: float64"
      ]
     },
     "execution_count": 37,
     "metadata": {},
     "output_type": "execute_result"
    }
   ],
   "source": [
    "users_ultra['duration'].describe()"
   ]
  },
  {
   "cell_type": "code",
   "execution_count": 38,
   "id": "31ec8cfe",
   "metadata": {},
   "outputs": [
    {
     "data": {
      "text/plain": [
       "count    6500.000000\n",
       "mean     3115.445431\n",
       "std       836.895369\n",
       "min       244.210000\n",
       "25%      2785.447500\n",
       "50%      3148.640000\n",
       "75%      3560.577500\n",
       "max      5699.770000\n",
       "Name: distance, dtype: float64"
      ]
     },
     "execution_count": 38,
     "metadata": {},
     "output_type": "execute_result"
    }
   ],
   "source": [
    "users_ultra['distance'].describe()"
   ]
  },
  {
   "cell_type": "markdown",
   "id": "c5abd0e9",
   "metadata": {},
   "source": [
    "#### Займемся визуализацией и сравнением. "
   ]
  },
  {
   "cell_type": "code",
   "execution_count": 39,
   "id": "6feec94a",
   "metadata": {},
   "outputs": [
    {
     "data": {
      "image/png": "[encoded data removed]",
      "text/plain": [
       "<Figure size 1000x600 with 1 Axes>"
      ]
     },
     "metadata": {},
     "output_type": "display_data"
    }
   ],
   "source": [
    "plt.figure(figsize=(10, 6))\n",
    "\n",
    "plt.hist([users_free['distance'], users_ultra['distance']], bins=50, range=(1000, 5600), label=['Free', 'Ultra'], color=['skyblue', 'pink'], edgecolor='black')\n",
    "\n",
    "# Настройки графика\n",
    "plt.legend(loc='upper right')\n",
    "plt.title('Количество поездок в зависимости расстояния поездки')\n",
    "plt.xlabel('Дистанция (м)')\n",
    "plt.ylabel('Количество поездок')\n",
    "plt.grid(True)\n",
    "plt.tight_layout()\n",
    "\n",
    "\n",
    "plt.show()"
   ]
  },
  {
   "cell_type": "markdown",
   "id": "1192de5c",
   "metadata": {},
   "source": [
    "<div class=\"alert alert-success\">\n",
    "<b>Комментарий ревьюера:</b>☀️\n",
    "    \n",
    "* Отличная идея на одном графике отобразить оба тарифа, так их максимально удобно сравнивать, спасибо!\n",
    "* На графиках отлично смотрится среднее или медиана, как дополнительное опорной значение, вот [тут](https://stackoverflow.com/questions/16930328/vertical-horizontal-lines-in-matplotlib) можно посмотреть, как добавить такую визуализацию"
   ]
  },
  {
   "cell_type": "code",
   "execution_count": 40,
   "id": "74614e58",
   "metadata": {},
   "outputs": [
    {
     "data": {
      "image/png": "[encoded data removed]",
      "text/plain": [
       "<Figure size 1000x600 with 1 Axes>"
      ]
     },
     "metadata": {},
     "output_type": "display_data"
    }
   ],
   "source": [
    "plt.figure(figsize=(10, 6))\n",
    "\n",
    "plt.hist([users_free['duration'], users_ultra['duration']], bins=30, range=(0, 30), label=['Free', 'Ultra'], color=['skyblue', 'pink'], edgecolor='black')\n",
    "\n",
    "\n",
    "plt.legend(loc='upper right')\n",
    "plt.title('Количество поездок в зависимости от продолжительности')\n",
    "plt.xlabel('Длительность (в минутах)')\n",
    "plt.ylabel('Количество поездок')\n",
    "plt.grid(True)\n",
    "plt.tight_layout()\n",
    "\n",
    "plt.show()"
   ]
  },
  {
   "cell_type": "markdown",
   "id": "288aa7ed",
   "metadata": {},
   "source": [
    "#### Выводы:\n",
    "#### 1)Описательная статистика  по пользователям без подписки  и с подпиской ultra указывает на влияние подписки на медианные значения расстояния поездок (без подписки 3114.65 метров, с подпиской 3148.64 метров). \n",
    "#### 2) Визуализация и описательная статистика по пользователям без подписки free и с подпиской ultra показывают, что подписка влияет на медианные значения времени поездок (без подписки 18 минут, с подпиской 19 минут).\n"
   ]
  },
  {
   "cell_type": "markdown",
   "id": "51ebb1a8",
   "metadata": {},
   "source": [
    "## Шаг 5. Подсчёт выручки"
   ]
  },
  {
   "cell_type": "markdown",
   "id": "b5bffcc4",
   "metadata": {},
   "source": [
    "#### 5.1 Создаем датафрейм с агрегированными данными о поездках на основе датафрейма с объединёнными данными из шага 4: найдем суммарное расстояние, количество поездок и суммарное время для каждого пользователя за каждый месяц."
   ]
  },
  {
   "cell_type": "code",
   "execution_count": 41,
   "id": "c1085ec3",
   "metadata": {},
   "outputs": [],
   "source": [
    "aggregated_data = merged_data.groupby(['user_id', 'month']).agg({\n",
    "    'distance': 'sum',\n",
    "    'duration': ['count', 'sum']\n",
    "}).reset_index()\n",
    "\n",
    "\n",
    "aggregated_data.columns = ['user_id', 'month', 'total_distance', 'ride_count', 'total_duration']\n",
    "\n",
    "\n"
   ]
  },
  {
   "cell_type": "code",
   "execution_count": 42,
   "id": "e8ae1051",
   "metadata": {},
   "outputs": [],
   "source": [
    "aggregated_data['revenue'] = (merged_data['start_ride_price']*aggregated_data['ride_count'] + \n",
    "                              merged_data['minute_price']*aggregated_data['total_duration'] + \n",
    "                              merged_data['subscription_fee'])"
   ]
  },
  {
   "cell_type": "code",
   "execution_count": 43,
   "id": "9de9e681",
   "metadata": {},
   "outputs": [],
   "source": [
    "aggregated_data['subscription_type'] = merged_data['subscription_type']"
   ]
  },
  {
   "cell_type": "code",
   "execution_count": 44,
   "id": "9ee2e476",
   "metadata": {},
   "outputs": [],
   "source": [
    "aggregated_data['total_duration'] = np.ceil(aggregated_data['total_duration']).astype(int)\n"
   ]
  },
  {
   "cell_type": "code",
   "execution_count": 45,
   "id": "89ba855a",
   "metadata": {},
   "outputs": [
    {
     "data": {
      "text/html": [
       "<div>\n",
       "<style scoped>\n",
       "    .dataframe tbody tr th:only-of-type {\n",
       "        vertical-align: middle;\n",
       "    }\n",
       "\n",
       "    .dataframe tbody tr th {\n",
       "        vertical-align: top;\n",
       "    }\n",
       "\n",
       "    .dataframe thead th {\n",
       "        text-align: right;\n",
       "    }\n",
       "</style>\n",
       "<table border=\"1\" class=\"dataframe\">\n",
       "  <thead>\n",
       "    <tr style=\"text-align: right;\">\n",
       "      <th></th>\n",
       "      <th>user_id</th>\n",
       "      <th>month</th>\n",
       "      <th>total_distance</th>\n",
       "      <th>ride_count</th>\n",
       "      <th>total_duration</th>\n",
       "      <th>revenue</th>\n",
       "      <th>subscription_type</th>\n",
       "    </tr>\n",
       "  </thead>\n",
       "  <tbody>\n",
       "    <tr>\n",
       "      <th>0</th>\n",
       "      <td>1</td>\n",
       "      <td>1</td>\n",
       "      <td>7027.51</td>\n",
       "      <td>2</td>\n",
       "      <td>42</td>\n",
       "      <td>451.0</td>\n",
       "      <td>ultra</td>\n",
       "    </tr>\n",
       "    <tr>\n",
       "      <th>1</th>\n",
       "      <td>1</td>\n",
       "      <td>4</td>\n",
       "      <td>754.16</td>\n",
       "      <td>1</td>\n",
       "      <td>7</td>\n",
       "      <td>241.0</td>\n",
       "      <td>ultra</td>\n",
       "    </tr>\n",
       "    <tr>\n",
       "      <th>2</th>\n",
       "      <td>1</td>\n",
       "      <td>8</td>\n",
       "      <td>6723.47</td>\n",
       "      <td>2</td>\n",
       "      <td>46</td>\n",
       "      <td>475.0</td>\n",
       "      <td>ultra</td>\n",
       "    </tr>\n",
       "    <tr>\n",
       "      <th>3</th>\n",
       "      <td>1</td>\n",
       "      <td>10</td>\n",
       "      <td>5809.91</td>\n",
       "      <td>2</td>\n",
       "      <td>32</td>\n",
       "      <td>391.0</td>\n",
       "      <td>ultra</td>\n",
       "    </tr>\n",
       "    <tr>\n",
       "      <th>4</th>\n",
       "      <td>1</td>\n",
       "      <td>11</td>\n",
       "      <td>7003.50</td>\n",
       "      <td>3</td>\n",
       "      <td>56</td>\n",
       "      <td>535.0</td>\n",
       "      <td>ultra</td>\n",
       "    </tr>\n",
       "  </tbody>\n",
       "</table>\n",
       "</div>"
      ],
      "text/plain": [
       "   user_id  month  total_distance  ride_count  total_duration  revenue  \\\n",
       "0        1      1         7027.51           2              42    451.0   \n",
       "1        1      4          754.16           1               7    241.0   \n",
       "2        1      8         6723.47           2              46    475.0   \n",
       "3        1     10         5809.91           2              32    391.0   \n",
       "4        1     11         7003.50           3              56    535.0   \n",
       "\n",
       "  subscription_type  \n",
       "0             ultra  \n",
       "1             ultra  \n",
       "2             ultra  \n",
       "3             ultra  \n",
       "4             ultra  "
      ]
     },
     "metadata": {},
     "output_type": "display_data"
    }
   ],
   "source": [
    "display(aggregated_data.head())"
   ]
  },
  {
   "cell_type": "markdown",
   "id": "5b2ec448",
   "metadata": {},
   "source": [
    "<div class=\"alert alert-success\">\n",
    "<b>Комментарий ревьюера:</b>☀️\n",
    "    \n",
    "Абсолютно верный расчёт доходов, можно двигаться к проверке гипотез"
   ]
  },
  {
   "cell_type": "markdown",
   "id": "dfe36e15",
   "metadata": {},
   "source": [
    "### Вывод о выручке:"
   ]
  },
  {
   "cell_type": "code",
   "execution_count": 46,
   "id": "a6ee1133",
   "metadata": {},
   "outputs": [
    {
     "name": "stdout",
     "output_type": "stream",
     "text": [
      "Общая выручка за 2021 год: 3982632.0 руб.\n"
     ]
    }
   ],
   "source": [
    "print ('Общая выручка за 2021 год:', aggregated_data['revenue'].sum(), 'руб.')"
   ]
  },
  {
   "cell_type": "markdown",
   "id": "bfc3b2f8",
   "metadata": {},
   "source": [
    "## Шаг 6. Проверка гипотез"
   ]
  },
  {
   "cell_type": "markdown",
   "id": "987c079b",
   "metadata": {},
   "source": [
    "#### Продакт-менеджеры сервиса хотят увеличить количество пользователей с подпиской. Для этого они будут проводить различные акции, но сначала нужно выяснить несколько важных моментов."
   ]
  },
  {
   "cell_type": "markdown",
   "id": "35e4f923",
   "metadata": {},
   "source": [
    "#### 6.1  Тратят ли пользователи с подпиской больше времени на поездки?"
   ]
  },
  {
   "cell_type": "markdown",
   "id": "09b9c14f",
   "metadata": {},
   "source": [
    "Н0: Средняя продолжительность поездок с подпиской и без равна. \n",
    "\n",
    "Н1: Средняя продолжительность поездок с подпиской больше продолжительности поездок без подписки. "
   ]
  },
  {
   "cell_type": "code",
   "execution_count": 47,
   "id": "635272e4",
   "metadata": {},
   "outputs": [
    {
     "name": "stdout",
     "output_type": "stream",
     "text": [
      "p-value: 2.4959453720736625e-34\n",
      "Отвергаем нулевую гипотезу\n"
     ]
    }
   ],
   "source": [
    "hypothesis = st.ttest_ind(users_ultra['duration'], \n",
    "                       users_free['duration'], equal_var=True,\n",
    "                       alternative='greater')\n",
    "\n",
    "print(\"p-value:\", hypothesis.pvalue)\n",
    "\n",
    "alpha = 0.05\n",
    "\n",
    "\n",
    "if hypothesis.pvalue < alpha:\n",
    "    print('Отвергаем нулевую гипотезу')\n",
    "else:\n",
    "    print('Не отвергаем нулевую гипотезу')"
   ]
  },
  {
   "cell_type": "markdown",
   "id": "db1371b4",
   "metadata": {},
   "source": [
    "<div class=\"alert alert-success\">\n",
    "<b>Комментарий ревьюера:</b>☀️\n",
    "    \n",
    "Отлично, что формулируешь нулевую, альтернативную гипотезу, это важно, выводы верны, ещё могу порекомендовать дополнительно проверять себя и выводить среднее проверяемых переменных или распределения"
   ]
  },
  {
   "cell_type": "markdown",
   "id": "21781929",
   "metadata": {},
   "source": [
    "#### Вывод: отвергаем нулевую гипотезу, а это значит, что есть вероятность, что  средняя продолжительность поездки с подпиской больше продолжительности поездок без подписки при alpha = 0,05 (5%)."
   ]
  },
  {
   "cell_type": "markdown",
   "id": "61b222a9",
   "metadata": {},
   "source": [
    "#### 6.2 среднее расстояние, которое проезжают пользователи с подпиской за одну поездку, не превышает  3130 метров? "
   ]
  },
  {
   "cell_type": "markdown",
   "id": "ec90be89",
   "metadata": {},
   "source": [
    "Н0: Среднее расстояние поездок с подпиской равно 3130 метров.\n",
    "\n",
    "Н1: Среднее расстояние поездок с подпиской больше оптимального в 3130 метров."
   ]
  },
  {
   "cell_type": "code",
   "execution_count": 48,
   "id": "30cce4c5",
   "metadata": {},
   "outputs": [
    {
     "name": "stdout",
     "output_type": "stream",
     "text": [
      "0.9195362605842414\n",
      "Не получилось отвергнуть нулевую гипотезу: среднее расстояние не превышает 3130 метров\n"
     ]
    }
   ],
   "source": [
    "normal_distance = 3130\n",
    "alpha = 0.05\n",
    "\n",
    "hypothesis_2 = st.ttest_1samp(\n",
    "    users_ultra['distance'],  normal_distance, alternative='greater')\n",
    "\n",
    "print(hypothesis_2.pvalue)\n",
    "\n",
    "if hypothesis_2.pvalue < alpha:\n",
    "    print('Отвергаем нулевую гипотезу: среднее расстояние превышает 3130 метров')\n",
    "else:\n",
    "    print('Не получилось отвергнуть нулевую гипотезу: среднее расстояние не превышает 3130 метров')"
   ]
  },
  {
   "cell_type": "markdown",
   "id": "85aee48f",
   "metadata": {},
   "source": [
    "<div class=\"alert alert-success\">\n",
    "<b>Комментарий ревьюера:</b>☀️\n",
    "    \n",
    "Бизнес может спать спокойно, с износом всё в порядке"
   ]
  },
  {
   "cell_type": "markdown",
   "id": "e80d9030",
   "metadata": {},
   "source": [
    "#### Вывод: Нулевую гипотезу не удалось отвергнуть, следовательно, можно утверждать, что при уровне значимости 5% среднее расстояние поездки пользователей с подпиской не превышает оптимальные 3130 метров с точки зрения износа самоката."
   ]
  },
  {
   "cell_type": "markdown",
   "id": "1378a656",
   "metadata": {},
   "source": [
    "#### 6.3 Помесячная выручка от пользователей с подпиской по месяцам выше, чем выручка от пользователей без подписки. "
   ]
  },
  {
   "cell_type": "markdown",
   "id": "46d833f7",
   "metadata": {},
   "source": [
    "Н0: Помесячная средняя выручка от пользователей с подпиской равна помесячной средней выручке от пользователей без подписки.\n",
    "\n",
    "Н1: Помесячная средняя выручка от пользователей с подпиской больше помесячной средней выручки от пользователей без подписки."
   ]
  },
  {
   "cell_type": "code",
   "execution_count": 49,
   "id": "72e95916",
   "metadata": {},
   "outputs": [
    {
     "name": "stdout",
     "output_type": "stream",
     "text": [
      "1.318341752391833e-51\n",
      "Отвергаем нулевую гипотезу\n"
     ]
    }
   ],
   "source": [
    "ultra_use_mnth = aggregated_data.loc[aggregated_data.subscription_type == 'ultra', 'revenue'] \n",
    "\n",
    "free_use_mnth = aggregated_data.loc[aggregated_data.subscription_type == 'free', 'revenue'] \n",
    "\n",
    "\n",
    "hypothesis_3 = st.ttest_ind(ultra_use_mnth, \n",
    "                       free_use_mnth,\n",
    "                       alternative = 'greater')\n",
    "\n",
    "alpha = .05\n",
    "\n",
    "print(hypothesis_3.pvalue)\n",
    "\n",
    "if hypothesis_3.pvalue < alpha:\n",
    "    print('Отвергаем нулевую гипотезу')\n",
    "else:\n",
    "    print('Не удалось отвергнуть нулевую гипотезу')"
   ]
  },
  {
   "cell_type": "markdown",
   "id": "ee3ad903",
   "metadata": {},
   "source": [
    "#### Вывод: выручка с пользователей с подпиской больше выручки пользователей без подписки."
   ]
  },
  {
   "cell_type": "markdown",
   "id": "30e2a000",
   "metadata": {},
   "source": [
    "####  Представьте такую ситуацию: техническая команда сервиса обновила сервера, с которыми взаимодействует мобильное приложение. Она надеется, что из-за этого количество обращений в техподдержку значимо снизилось. Некоторый файл содержит для каждого пользователя данные о количестве обращений до обновления и после него. Какой тест вам понадобился бы для проверки этой гипотезы?"
   ]
  },
  {
   "cell_type": "markdown",
   "id": "e26b431c",
   "metadata": {},
   "source": [
    "Потребуется парный t-тест,если данные о количестве обращений до и после обновления серверов представляют собой парные наблюдения для каждого пользователя. Будем использовать scipy.stats.ttest_rel."
   ]
  },
  {
   "cell_type": "markdown",
   "id": "6057c2cd",
   "metadata": {},
   "source": [
    "<div class=\"alert alert-success\">\n",
    "<b>Комментарий ревьюера:</b>☀️\n",
    "    \n",
    "А как будет звучать альтернативная гипотеза? "
   ]
  },
  {
   "cell_type": "markdown",
   "id": "bb385f0a",
   "metadata": {},
   "source": [
    "## Общие выводы по анализу"
   ]
  },
  {
   "cell_type": "markdown",
   "id": "3494c09b",
   "metadata": {},
   "source": [
    "##  1) Географическое распределение популярности сервиса:\n",
    "\n",
    "#### Наибольшее количество аренд самокатов наблюдается в Пятигорске, Екатеринбурге и Ростове-на-Дону. Это может указывать на высокий спрос и потенциал для дальнейшего развития сервиса в этих городах.\n",
    "\n",
    "##  2) Профиль пользователей:\n",
    "\n",
    "#### Количество пользователей без подписки превышает количество пользователей с подпиской на 8.8%.\n",
    "\n",
    "#### Средний возраст пользователей составляет примерно 25 лет, что говорит о популярности сервиса среди молодежи.\n",
    "\n",
    "##  3) Анализ поездок:\n",
    "\n",
    "#### Наибольшее количество поездок приходится на расстояние 3070 метров, что подтверждается как медианным (3133 м), так и средним значением.\n",
    "\n",
    "#### Время поездок в среднем составляет около 18 минут, также присутствуют случаи очень коротких поездок.\n",
    "\n",
    "##  4) Влияние подписки на поведение пользователей:\n",
    "\n",
    "#### Пользователи с подпиской Ultra в среднем проезжают чуть большее расстояние (медиана 3148.64 метров) по сравнению с пользователями без подписки (медиана 3114.65 метров).\n",
    "\n",
    "#### Время поездок также увеличивается с подпиской (медиана 19 минут против 18 минут без подписки).\n",
    "\n",
    "##  5) Финансовые показатели:\n",
    "\n",
    "#### Общая выручка за 2021 год составила 3,982,632 рубля.\n",
    "\n",
    "#### Выручка с пользователей с подпиской больше выручки пользователей без подписки.\n",
    "\n",
    "##  6) Средняя продолжительность поездок:\n",
    "\n",
    "#### Нулевая гипотеза о том, что средняя продолжительность поездок с подпиской не превышает продолжительность поездок без подписки, была отвергнута при уровне значимости 5%. Это указывает на то, что подписка действительно способствует увеличению продолжительности поездок.\n",
    "\n",
    "##  7) Среднее расстояние поездок:\n",
    "\n",
    "#### Нулевая гипотеза о том, что среднее расстояние поездки пользователей с подпиской не превышает оптимальные 3130 метров, не была отвергнута. Это свидетельствует о том, что подписка не приводит к значительному увеличению среднего расстояния поездок, что является позитивным с точки зрения износа самокатов.\n",
    "\n",
    "##  8) Рекомендации\n",
    "\n",
    "#### Фокус на подписки: усилить маркетинг и акции, направленные на продвижение подписки Ultra, так как она увеличивает продолжительность поездок и общую выручку.\n",
    "\n",
    "#### Анализ городов: продолжить анализ востребованности сервиса в различных городах и, при необходимости, расширять парк самокатов в самых популярных регионах.\n",
    "\n",
    "\n",
    "\n"
   ]
  },
  {
   "cell_type": "code",
   "execution_count": null,
   "id": "445a0ab9",
   "metadata": {},
   "outputs": [],
   "source": []
  }
 ],
 "metadata": {
  "kernelspec": {
   "display_name": "Python 3 (ipykernel)",
   "language": "python",
   "name": "python3"
  },
  "language_info": {
   "codemirror_mode": {
    "name": "ipython",
    "version": 3
   },
   "file_extension": ".py",
   "mimetype": "text/x-python",
   "name": "python",
   "nbconvert_exporter": "python",
   "pygments_lexer": "ipython3",
   "version": "3.9.5"
  },
  "toc": {
   "base_numbering": 1,
   "nav_menu": {},
   "number_sections": true,
   "sideBar": true,
   "skip_h1_title": true,
   "title_cell": "Table of Contents",
   "title_sidebar": "Contents",
   "toc_cell": false,
   "toc_position": {},
   "toc_section_display": true,
   "toc_window_display": false
  }
 },
 "nbformat": 4,
 "nbformat_minor": 5
}
